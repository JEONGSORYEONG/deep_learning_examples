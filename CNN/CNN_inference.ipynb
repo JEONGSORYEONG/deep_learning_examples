{
 "cells": [
  {
   "cell_type": "code",
   "execution_count": null,
   "id": "7ff9675c",
   "metadata": {},
   "outputs": [
    {
     "name": "stdout",
     "output_type": "stream",
     "text": [
      "[[-1 -1 -1]\n",
      " [-1  8 -1]\n",
      " [-1 -1 -1]]\n"
     ]
    },
    {
     "data": {
      "text/plain": [
       "27"
      ]
     },
     "execution_count": 1,
     "metadata": {},
     "output_type": "execute_result"
    },
    {
     "ename": "",
     "evalue": "",
     "output_type": "error",
     "traceback": [
      "\u001b[1;31mThe Kernel crashed while executing code in the current cell or a previous cell. \n",
      "\u001b[1;31mPlease review the code in the cell(s) to identify a possible cause of the failure. \n",
      "\u001b[1;31mClick <a href='https://aka.ms/vscodeJupyterKernelCrash'>here</a> for more info. \n",
      "\u001b[1;31mView Jupyter <a href='command:jupyter.viewOutput'>log</a> for further details."
     ]
    }
   ],
   "source": [
    "import cv2\n",
    "import numpy as np\n",
    "\n",
    "img  = cv2.imread('apple.jpeg', cv2.IMREAD_GRAYSCALE)\n",
    "\n",
    "# kernel = np.array([[1,1,1],[1,-8,1],[1,1,1]])         #Identity\n",
    "# kernel = np.array([[0,0,0],[0,1,0],[0,0,0]])          #Ridge or edge detection\n",
    "# kernel = np.array([[0,-1,0],[-1,4,-1],[0,-1,0]])      #Ridge or edge detection\n",
    "kernel = np.array([[-1,-1,-1],[-1,8,-1],[-1,-1,-1]])  #Sharpen\n",
    "# kernel = np.array([[0,-1,0],[-1,5,-1],[0,-1,0]])      #Box blur(normalized)\n",
    "# kernel = np.array([[1,1,1],\n",
    "#                    [1,1,1],\n",
    "#                    [1,1,1]], dtype=float)\n",
    "# kernel = kernel * (1/9)                               #Gaussian blur 3x3(approximation)\n",
    "\n",
    "# kernel = np.array([[1,2,1],\n",
    "#                    [2,4,2],\n",
    "#                    [1,2,1]], dtype=float)\n",
    "# kernel = kernel * (1/16)\n",
    "\n",
    "# kernel = np.array([[1,4,6,4,1],                         #Gaussian blur 5x5(approximation)\n",
    "#                    [4,16,24,16,4],\n",
    "#                    [6,24,36,24,6],\n",
    "#                    [4,16,24,16,4],\n",
    "#                    [1,4,6,4,1]], dtype=float)\n",
    "# kernel = kernel * (1/256)\n",
    "\n",
    "\n",
    "\n",
    "print(kernel)\n",
    "output = cv2.filter2D(img, -1, kernel)\n",
    "cv2.imshow('edge',output)\n",
    "cv2.waitKey(0)"
   ]
  }
 ],
 "metadata": {
  "kernelspec": {
   "display_name": ".venv",
   "language": "python",
   "name": "python3"
  },
  "language_info": {
   "codemirror_mode": {
    "name": "ipython",
    "version": 3
   },
   "file_extension": ".py",
   "mimetype": "text/x-python",
   "name": "python",
   "nbconvert_exporter": "python",
   "pygments_lexer": "ipython3",
   "version": "3.10.12"
  }
 },
 "nbformat": 4,
 "nbformat_minor": 5
}
