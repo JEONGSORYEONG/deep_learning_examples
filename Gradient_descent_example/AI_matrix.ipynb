{
  "nbformat": 4,
  "nbformat_minor": 0,
  "metadata": {
    "colab": {
      "provenance": []
    },
    "kernelspec": {
      "name": "python3",
      "display_name": "Python 3"
    },
    "language_info": {
      "name": "python"
    }
  },
  "cells": [
    {
      "cell_type": "code",
      "execution_count": null,
      "metadata": {
        "id": "q24d1mTX0oiv"
      },
      "outputs": [],
      "source": [
        "import numpy as np\n",
        "import matplotlib.pyplot as plt\n",
        "\n",
        "x = np.linspace(-2,2,11)\n",
        "y = np.linspace(-2,2,11)\n",
        "\n",
        "print(x)\n",
        "print(y)\n",
        "\n",
        "x,y = np.meshgrid(x,y)\n",
        "print(x)\n",
        "print(y)\n",
        "\n",
        "f = lambda x,y : (x-1)**2 + (y-1)**2\n",
        "z = f(x,y)\n",
        "print(z)"
      ]
    },
    {
      "cell_type": "code",
      "source": [
        "grad_f_x = lambda x,y: 2 *(x-1)\n",
        "grad_f_y = lambda x,y: 2 *(y-1)\n",
        "\n",
        "\n",
        "dz_dx = grad_f_x(x,y)\n",
        "dz_dy = grad_f_y(x,y)\n",
        "\n",
        "\n",
        "ax = plt.axes()\n",
        "ax.contour(x,y,z,levels=np.linspace(0,10,20), cmap=plt.cm.jet)\n",
        "ax.quiver(x,y,-dz_dx, -dz_dy)\n",
        "ax.grid()\n",
        "ax.axis('equal')\n",
        "ax.set_xlabel('$x$')\n",
        "ax.set_ylabel('$y$')\n",
        "plt.show()\n"
      ],
      "metadata": {
        "id": "HYh-ww_z1Zb0"
      },
      "execution_count": null,
      "outputs": []
    },
    {
      "cell_type": "code",
      "source": [
        "import numpy as np\n",
        "import matplotlib.pyplot as plt\n",
        "\n",
        "def f(x):\n",
        "  return x**2-4*x+6\n",
        "\n",
        "Number0fPoints = 101\n",
        "x = np.linspace(-5., 5, Number0fPoints)\n",
        "fx= f(x)\n",
        "plt.plot(x,fx)\n",
        "plt.grid()\n",
        "plt.xlabel('x')\n",
        "plt.ylabel('f(x)')\n",
        "plt.title('plot of f(x)')\n",
        "plt.show()\n"
      ],
      "metadata": {
        "id": "G8UWWqPn1cbB"
      },
      "execution_count": null,
      "outputs": []
    },
    {
      "cell_type": "code",
      "source": [
        "xid = np.argmin(fx)\n",
        "xpot = x[xid]\n",
        "print(xpot, f(xpot))"
      ],
      "metadata": {
        "id": "KnsnsNqC1dx0"
      },
      "execution_count": null,
      "outputs": []
    },
    {
      "cell_type": "code",
      "source": [
        "plt.plot(x,fx)\n",
        "plt.grid()\n",
        "plt.xlabel('x')\n",
        "plt.ylabel('f(x)')\n",
        "plt.title('plot of f(x)')\n",
        "\n",
        "plt.plot(xpot, f(xpot), 'xr')\n",
        "plt.show()"
      ],
      "metadata": {
        "id": "-Yp85zwZ1gcv"
      },
      "execution_count": null,
      "outputs": []
    },
    {
      "cell_type": "code",
      "source": [
        "import numpy as np\n",
        "import matplotlib.pyplot as plt\n",
        "\n",
        "# 함수 정의\n",
        "def f(x):\n",
        "    return x**2 - 4*x + 6\n",
        "\n",
        "# 도함수 (기울기 함수)\n",
        "def grad_fx(x):\n",
        "    return 2*x - 4\n",
        "\n",
        "# 경사 하강법 함수\n",
        "def steepest_descent(func, grad_func, x0, learning_rate=0.01, MaxIter=10, verbose=True):\n",
        "    paths = []\n",
        "    for i in range(MaxIter):\n",
        "        x1 = x0 - learning_rate * grad_func(x0)\n",
        "        if verbose:\n",
        "            print('{:03d}: {:1.4f}, {:2.4E}'.format(i, x1, func(x1)))\n",
        "        x0 = x1\n",
        "        paths.append(x0)\n",
        "    return x0, func(x0), paths"
      ],
      "metadata": {
        "id": "KNSgTX6S1jkT"
      },
      "execution_count": null,
      "outputs": []
    },
    {
      "cell_type": "code",
      "source": [
        "\n",
        "# 경사 하강법 실행\n",
        "xopt, fopt, paths = steepest_descent(f, grad_fx, 0.0, learning_rate=1.2)\n",
        "\n",
        "# 경로 시각화\n",
        "x = np.linspace(0.5, 2.5, 1000)\n",
        "paths = np.array(paths)\n",
        "\n",
        "plt.plot(x, f(x))\n",
        "plt.grid()\n",
        "plt.xlabel('x')\n",
        "plt.ylabel('f(x)')\n",
        "plt.title('plot of f(x)')\n",
        "\n",
        "plt.plot(paths, f(paths), 'o-')\n",
        "plt.show()\n",
        "\n",
        "# cost plot\n",
        "plt.plot(f(paths), 'o-')\n",
        "plt.grid()\n",
        "plt.xlabel('x')\n",
        "plt.ylabel('cost')\n",
        "plt.title('plot of cost')\n",
        "plt.show()\n",
        "\n",
        "\n"
      ],
      "metadata": {
        "id": "wzGsyGMf1kLk"
      },
      "execution_count": null,
      "outputs": []
    },
    {
      "cell_type": "code",
      "source": [
        "\n",
        "\n",
        "# 경사 하강법 실행\n",
        "xopt, fopt, paths = steepest_descent(f, grad_fx, 1.0, learning_rate=1)\n",
        "\n",
        "# 경로 시각화\n",
        "x = np.linspace(0.5, 3.5, 1000)\n",
        "paths = np.array(paths)\n",
        "\n",
        "plt.plot(x, f(x))\n",
        "plt.grid()\n",
        "plt.xlabel('x')\n",
        "plt.ylabel('f(x)')\n",
        "plt.title('plot of f(x)')\n",
        "\n",
        "plt.plot(paths, f(paths), 'o-')\n",
        "plt.show()\n",
        "\n",
        "# cost plot\n",
        "plt.plot(f(paths), 'o-')\n",
        "plt.grid()\n",
        "plt.xlabel('x')\n",
        "plt.ylabel('cost')\n",
        "plt.title('plot of cost')\n",
        "plt.show()\n",
        "\n",
        "\n"
      ],
      "metadata": {
        "id": "KwjIEnkH1nAQ"
      },
      "execution_count": null,
      "outputs": []
    },
    {
      "cell_type": "code",
      "source": [
        "\n",
        "# 경사 하강법 실행\n",
        "xopt, fopt, paths = steepest_descent(f, grad_fx, 1.0, learning_rate=0.001)\n",
        "\n",
        "# 경로 시각화\n",
        "x = np.linspace(0.5, 3.5, 1000)\n",
        "paths = np.array(paths)\n",
        "\n",
        "plt.plot(x, f(x))\n",
        "plt.grid()\n",
        "plt.xlabel('x')\n",
        "plt.ylabel('f(x)')\n",
        "plt.title('plot of f(x)')\n",
        "\n",
        "plt.plot(paths, f(paths), 'o-')\n",
        "plt.show()\n",
        "\n",
        "# cost plot\n",
        "plt.plot(f(paths), 'o-')\n",
        "plt.grid()\n",
        "plt.xlabel('x')\n",
        "plt.ylabel('cost')\n",
        "plt.title('plot of cost')\n",
        "plt.show()\n",
        "\n",
        "\n"
      ],
      "metadata": {
        "id": "tVTm8pG_1pnE"
      },
      "execution_count": null,
      "outputs": []
    },
    {
      "cell_type": "code",
      "source": [
        "# 경사 하강법 실행\n",
        "xopt, fopt, paths = steepest_descent(f, grad_fx, 3.0, learning_rate=0.9)\n",
        "\n",
        "# 경로 시각화\n",
        "x = np.linspace(0.5, 3.5, 1000)\n",
        "paths = np.array(paths)\n",
        "\n",
        "plt.plot(x, f(x))\n",
        "plt.grid()\n",
        "plt.xlabel('x')\n",
        "plt.ylabel('f(x)')\n",
        "plt.title('plot of f(x)')\n",
        "\n",
        "plt.plot(paths, f(paths), 'o-')\n",
        "plt.show()\n",
        "\n",
        "# cost plot\n",
        "plt.plot(f(paths), 'o-')\n",
        "plt.grid()\n",
        "plt.xlabel('x')\n",
        "plt.ylabel('cost')\n",
        "plt.title('plot of cost')\n",
        "plt.show()\n",
        "\n",
        "\n"
      ],
      "metadata": {
        "id": "r2utNqT_1saE"
      },
      "execution_count": null,
      "outputs": []
    },
    {
      "cell_type": "code",
      "source": [
        "import numpy as np\n",
        "import matplotlib.pylab as plt\n",
        "from matplotlib.colors import LogNorm\n",
        "from mpl_toolkits.mplot3d import Axes3D\n",
        "\n",
        "def contour(f, x, y, level = np.logspace(0, 5, 35)):\n",
        "\tfig, ax = plt.subplots(figsize=(8, 8))\n",
        "\tax.contour(x, y, f(x,y), levels=level, norm=LogNorm(), cmap=plt.cm.jet)\n",
        "\tax.set_xlabel('$x$')\n",
        "\tax.set_ylabel('$y$')\n",
        "\tplt.show()\n",
        "\n",
        "def contour_with_quiver(f, x, y, grad_x, grad_y, norm=LogNorm(), level = np.logspace(0, 5, 35),\n",
        "\tminima=None):\n",
        "\tdz_dx = grad_x(x,y)\n",
        "\tdz_dy = grad_y(x,y)\n",
        "\tfig, ax = plt.subplots(figsize=(6, 6))\n",
        "\tax.contour(x, y, f(x,y), levels=level, norm=norm, cmap=plt.cm.jet)\n",
        "\tif minima is not None:\n",
        "\t\tax.plot(*minima, 'r*', markersize=18)\n",
        "\tax.quiver(x, y, -dz_dx, -dz_dy, alpha=.5)\n",
        "\tax.set_xlabel('$x$')\n",
        "\tax.set_ylabel('$y$')\n",
        "\tplt.show()\n",
        "\n",
        "def surf(f, x, y, norm=LogNorm(), minima=None):\n",
        "\tfig = plt.figure(figsize=(8, 5))\n",
        "\tax = plt.axes(projection='3d', elev=50, azim=-50)\n",
        "\tax.plot_surface(x, y, f(x,y), norm=norm, rstride=1, cstride=1,\n",
        "\t                edgecolor='none', alpha=.8, cmap=plt.cm.jet)\n",
        "\tif minima is not None:\n",
        "\t\tax.plot(*minima, f(*minima), 'r*', markersize=10)\n",
        "\tax.set_xlabel('$x$')\n",
        "\tax.set_ylabel('$y$')\n",
        "\tax.set_zlabel('$z$')\n",
        "\tplt.show()\n",
        "\n",
        "def contour_with_path(f, x, y, paths, norm=LogNorm(), level=np.logspace(0, 5, 35), minima=None):\n",
        "\tfig, ax = plt.subplots(figsize=(6, 6))\n",
        "\n",
        "\tax.contour(x, y, f(x,y), levels=level, norm=norm, cmap=plt.cm.jet)\n",
        "\tax.quiver(paths[0,:-1], paths[1,:-1], paths[0,1:]-paths[0,:-1], paths[1,1:]-paths[1,:-1], scale_units='xy', angles='xy', scale=1, color='k')\n",
        "\tif minima is not None:\n",
        "\t\tax.plot(*minima, 'r*', markersize=18)\n",
        "\n",
        "\tax.set_xlabel('$x$')\n",
        "\tax.set_ylabel('$y$')\n",
        "\n",
        "\t# ax.set_xlim((xmin, xmax))\n",
        "\t# ax.set_ylim((ymin, ymax))\n",
        "\n",
        "\tplt.show()"
      ],
      "metadata": {
        "id": "7GfcRaMn1vGN"
      },
      "execution_count": null,
      "outputs": []
    },
    {
      "cell_type": "code",
      "source": [
        "import numpy as np\n",
        "import matplotlib.pyplot as plt\n",
        "from matplotlib.colors import LogNorm\n",
        "\n",
        "# # 사용자 정의 시각화 함수 임포트 (직접 정의했어야 실행됨)\n",
        "# from visualize import contour_with_quiver\n",
        "# from visualize import contour_with_path\n",
        "# from visualize import surf\n",
        "\n",
        "# ===== 좌표 범위 설정 =====\n",
        "xmin, xmax, xstep = -4.0, 4.0, 0.25\n",
        "ymin, ymax, ystep = -4.0, 4.0, 0.25\n",
        "\n",
        "# ===== Meshgrid 생성 =====\n",
        "x, y = np.meshgrid(\n",
        "    np.arange(xmin, xmax + xstep, xstep),\n",
        "    np.arange(ymin, ymax + ystep, ystep)\n",
        ")\n",
        "\n",
        "# ===== 함수 정의 =====\n",
        "f = lambda x, y: (x - 2)**2 + (y - 2)**2\n",
        "z = f(x, y)\n",
        "\n",
        "# ===== 최소값 위치 =====\n",
        "minima = np.array([2., 2.])\n",
        "\n",
        "print(f(*minima))  # 또는: print(f(minima[0], minima[1]))\n",
        "\n",
        "# ===== 최소점 모양 변형 후 서피스 플롯 =====\n",
        "minima_ = minima.reshape(-1, 1)\n",
        "print(minima, minima_)\n",
        "\n",
        "surf(f, x, y, minima=minima_)\n",
        "\n",
        "# ===== 기울기 함수 정의 =====\n",
        "grad_f_x = lambda x, y: 2 * (x - 2)\n",
        "grad_f_y = lambda x, y: 2 * (y - 2)\n",
        "\n",
        "# ===== 등고선과 벡터 필드 시각화 =====\n",
        "contour_with_quiver(f, x, y, grad_f_x, grad_f_y, minima=minima_)"
      ],
      "metadata": {
        "id": "lkwTtUmi1vyl"
      },
      "execution_count": null,
      "outputs": []
    },
    {
      "cell_type": "code",
      "source": [
        "# 경사하강법 함수 정의\n",
        "def steepest_descent_twod(func, gradx, grady, x0, MaxIter=10, learning_rate=0.25, verbose=True):\n",
        "    paths = [x0]\n",
        "    fval_paths = [f(x0[0], x0[1])]\n",
        "\n",
        "    for i in range(MaxIter):\n",
        "        grad = np.array([gradx(*x0), grady(*x0)])\n",
        "        x1 = x0 - learning_rate * grad\n",
        "        fval = f(*x1)\n",
        "\n",
        "        if verbose:\n",
        "            print(f'{i:03d} : x = {x1}, f(x) = {fval:.4f}')\n",
        "\n",
        "        x0 = x1\n",
        "        paths.append(x0)\n",
        "        fval_paths.append(fval)\n",
        "\n",
        "    paths = np.array(paths)\n",
        "    paths = np.array(np.matrix(paths).T)\n",
        "    fval_paths = np.array(fval_paths)\n",
        "\n",
        "    return x0, fval, paths, fval_paths\n",
        "\n",
        "\n",
        "x0 = np.array([-2., -2.])\n",
        "xopt, fopt, paths, fval_paths = steepest_descent_twod(f, grad_f_x, grad_f_y, x0)\n",
        "\n",
        "contour_with_path(f, x, y, paths, minima=np.array([[2],[2]]))\n",
        "\n"
      ],
      "metadata": {
        "id": "nO3rgyMk1z4r"
      },
      "execution_count": null,
      "outputs": []
    }
  ]
}